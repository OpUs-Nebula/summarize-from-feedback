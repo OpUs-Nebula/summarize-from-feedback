{
 "cells": [
  {
   "cell_type": "code",
   "execution_count": 1,
   "id": "talented-bernard",
   "metadata": {},
   "outputs": [
    {
     "name": "stdout",
     "output_type": "stream",
     "text": [
      "copying https://openaipublic.blob.core.windows.net/summarize-from-feedback/models/sup4_ppo_rm4/done-sentinel /tmp/bf-dir-cache/az/openaipublic/summarize-from-feedback/models/sup4_ppo_rm4/done-sentinel\n",
      "copying https://openaipublic.blob.core.windows.net/summarize-from-feedback/models/sup4_ppo_rm4/info.json /tmp/bf-dir-cache/az/openaipublic/summarize-from-feedback/models/sup4_ppo_rm4/info.json\n",
      "copying https://openaipublic.blob.core.windows.net/summarize-from-feedback/models/sup4_ppo_rm4/checkpoint/final_layer_norm_shard_000.pkl /tmp/bf-dir-cache/az/openaipublic/summarize-from-feedback/models/sup4_ppo_rm4/checkpoint/final_layer_norm_shard_000.pkl\n",
      "copying https://openaipublic.blob.core.windows.net/summarize-from-feedback/models/sup4_ppo_rm4/checkpoint/input_embeddings_shard_000.pkl /tmp/bf-dir-cache/az/openaipublic/summarize-from-feedback/models/sup4_ppo_rm4/checkpoint/input_embeddings_shard_000.pkl\n",
      "copying https://openaipublic.blob.core.windows.net/summarize-from-feedback/models/sup4_ppo_rm4/checkpoint/output_head_value_shard_000.pkl /tmp/bf-dir-cache/az/openaipublic/summarize-from-feedback/models/sup4_ppo_rm4/checkpoint/output_head_value_shard_000.pkl\n",
      "copying https://openaipublic.blob.core.windows.net/summarize-from-feedback/models/sup4_ppo_rm4/checkpoint/output_unembeddings_shard_000.pkl /tmp/bf-dir-cache/az/openaipublic/summarize-from-feedback/models/sup4_ppo_rm4/checkpoint/output_unembeddings_shard_000.pkl\n",
      "copying https://openaipublic.blob.core.windows.net/summarize-from-feedback/models/sup4_ppo_rm4/checkpoint/position_embedding_shard_000.pkl /tmp/bf-dir-cache/az/openaipublic/summarize-from-feedback/models/sup4_ppo_rm4/checkpoint/position_embedding_shard_000.pkl\n",
      "copying https://openaipublic.blob.core.windows.net/summarize-from-feedback/models/sup4_ppo_rm4/checkpoint/resblock_0000_shard_000.pkl /tmp/bf-dir-cache/az/openaipublic/summarize-from-feedback/models/sup4_ppo_rm4/checkpoint/resblock_0000_shard_000.pkl\n",
      "copying https://openaipublic.blob.core.windows.net/summarize-from-feedback/models/sup4_ppo_rm4/checkpoint/resblock_0001_shard_000.pkl /tmp/bf-dir-cache/az/openaipublic/summarize-from-feedback/models/sup4_ppo_rm4/checkpoint/resblock_0001_shard_000.pkl\n",
      "copying https://openaipublic.blob.core.windows.net/summarize-from-feedback/models/sup4_ppo_rm4/checkpoint/resblock_0002_shard_000.pkl /tmp/bf-dir-cache/az/openaipublic/summarize-from-feedback/models/sup4_ppo_rm4/checkpoint/resblock_0002_shard_000.pkl\n",
      "copying https://openaipublic.blob.core.windows.net/summarize-from-feedback/models/sup4_ppo_rm4/checkpoint/resblock_0003_shard_000.pkl /tmp/bf-dir-cache/az/openaipublic/summarize-from-feedback/models/sup4_ppo_rm4/checkpoint/resblock_0003_shard_000.pkl\n",
      "copying https://openaipublic.blob.core.windows.net/summarize-from-feedback/models/sup4_ppo_rm4/checkpoint/resblock_0004_shard_000.pkl /tmp/bf-dir-cache/az/openaipublic/summarize-from-feedback/models/sup4_ppo_rm4/checkpoint/resblock_0004_shard_000.pkl\n",
      "copying https://openaipublic.blob.core.windows.net/summarize-from-feedback/models/sup4_ppo_rm4/checkpoint/resblock_0005_shard_000.pkl /tmp/bf-dir-cache/az/openaipublic/summarize-from-feedback/models/sup4_ppo_rm4/checkpoint/resblock_0005_shard_000.pkl\n",
      "copying https://openaipublic.blob.core.windows.net/summarize-from-feedback/models/sup4_ppo_rm4/checkpoint/resblock_0006_shard_000.pkl /tmp/bf-dir-cache/az/openaipublic/summarize-from-feedback/models/sup4_ppo_rm4/checkpoint/resblock_0006_shard_000.pkl\n",
      "copying https://openaipublic.blob.core.windows.net/summarize-from-feedback/models/sup4_ppo_rm4/checkpoint/resblock_0007_shard_000.pkl /tmp/bf-dir-cache/az/openaipublic/summarize-from-feedback/models/sup4_ppo_rm4/checkpoint/resblock_0007_shard_000.pkl\n",
      "copying https://openaipublic.blob.core.windows.net/summarize-from-feedback/models/sup4_ppo_rm4/checkpoint/resblock_0008_shard_000.pkl /tmp/bf-dir-cache/az/openaipublic/summarize-from-feedback/models/sup4_ppo_rm4/checkpoint/resblock_0008_shard_000.pkl\n",
      "copying https://openaipublic.blob.core.windows.net/summarize-from-feedback/models/sup4_ppo_rm4/checkpoint/resblock_0009_shard_000.pkl /tmp/bf-dir-cache/az/openaipublic/summarize-from-feedback/models/sup4_ppo_rm4/checkpoint/resblock_0009_shard_000.pkl\n",
      "copying https://openaipublic.blob.core.windows.net/summarize-from-feedback/models/sup4_ppo_rm4/checkpoint/resblock_0010_shard_000.pkl /tmp/bf-dir-cache/az/openaipublic/summarize-from-feedback/models/sup4_ppo_rm4/checkpoint/resblock_0010_shard_000.pkl\n",
      "copying https://openaipublic.blob.core.windows.net/summarize-from-feedback/models/sup4_ppo_rm4/checkpoint/resblock_0011_shard_000.pkl /tmp/bf-dir-cache/az/openaipublic/summarize-from-feedback/models/sup4_ppo_rm4/checkpoint/resblock_0011_shard_000.pkl\n",
      "copying https://openaipublic.blob.core.windows.net/summarize-from-feedback/models/sup4_ppo_rm4/checkpoint/resblock_0012_shard_000.pkl /tmp/bf-dir-cache/az/openaipublic/summarize-from-feedback/models/sup4_ppo_rm4/checkpoint/resblock_0012_shard_000.pkl\n",
      "copying https://openaipublic.blob.core.windows.net/summarize-from-feedback/models/sup4_ppo_rm4/checkpoint/resblock_0013_shard_000.pkl /tmp/bf-dir-cache/az/openaipublic/summarize-from-feedback/models/sup4_ppo_rm4/checkpoint/resblock_0013_shard_000.pkl\n",
      "copying https://openaipublic.blob.core.windows.net/summarize-from-feedback/models/sup4_ppo_rm4/checkpoint/resblock_0014_shard_000.pkl /tmp/bf-dir-cache/az/openaipublic/summarize-from-feedback/models/sup4_ppo_rm4/checkpoint/resblock_0014_shard_000.pkl\n",
      "copying https://openaipublic.blob.core.windows.net/summarize-from-feedback/models/sup4_ppo_rm4/checkpoint/resblock_0015_shard_000.pkl /tmp/bf-dir-cache/az/openaipublic/summarize-from-feedback/models/sup4_ppo_rm4/checkpoint/resblock_0015_shard_000.pkl\n",
      "copying https://openaipublic.blob.core.windows.net/summarize-from-feedback/models/sup4_ppo_rm4/checkpoint/resblock_0016_shard_000.pkl /tmp/bf-dir-cache/az/openaipublic/summarize-from-feedback/models/sup4_ppo_rm4/checkpoint/resblock_0016_shard_000.pkl\n",
      "copying https://openaipublic.blob.core.windows.net/summarize-from-feedback/models/sup4_ppo_rm4/checkpoint/resblock_0017_shard_000.pkl /tmp/bf-dir-cache/az/openaipublic/summarize-from-feedback/models/sup4_ppo_rm4/checkpoint/resblock_0017_shard_000.pkl\n",
      "copying https://openaipublic.blob.core.windows.net/summarize-from-feedback/models/sup4_ppo_rm4/checkpoint/resblock_0018_shard_000.pkl /tmp/bf-dir-cache/az/openaipublic/summarize-from-feedback/models/sup4_ppo_rm4/checkpoint/resblock_0018_shard_000.pkl\n",
      "copying https://openaipublic.blob.core.windows.net/summarize-from-feedback/models/sup4_ppo_rm4/checkpoint/resblock_0019_shard_000.pkl /tmp/bf-dir-cache/az/openaipublic/summarize-from-feedback/models/sup4_ppo_rm4/checkpoint/resblock_0019_shard_000.pkl\n",
      "copying https://openaipublic.blob.core.windows.net/summarize-from-feedback/models/sup4_ppo_rm4/checkpoint/resblock_0020_shard_000.pkl /tmp/bf-dir-cache/az/openaipublic/summarize-from-feedback/models/sup4_ppo_rm4/checkpoint/resblock_0020_shard_000.pkl\n",
      "copying https://openaipublic.blob.core.windows.net/summarize-from-feedback/models/sup4_ppo_rm4/checkpoint/resblock_0021_shard_000.pkl /tmp/bf-dir-cache/az/openaipublic/summarize-from-feedback/models/sup4_ppo_rm4/checkpoint/resblock_0021_shard_000.pkl\n",
      "copying https://openaipublic.blob.core.windows.net/summarize-from-feedback/models/sup4_ppo_rm4/checkpoint/resblock_0022_shard_000.pkl /tmp/bf-dir-cache/az/openaipublic/summarize-from-feedback/models/sup4_ppo_rm4/checkpoint/resblock_0022_shard_000.pkl\n",
      "copying https://openaipublic.blob.core.windows.net/summarize-from-feedback/models/sup4_ppo_rm4/checkpoint/resblock_0023_shard_000.pkl /tmp/bf-dir-cache/az/openaipublic/summarize-from-feedback/models/sup4_ppo_rm4/checkpoint/resblock_0023_shard_000.pkl\n",
      "Constructing Transformer with the following model hparams:\n",
      "model_H:\n",
      "attn_dropout: 0.0\n",
      "d_model: 2048\n",
      "emb_dropout: 0.0\n",
      "fp16_conv_weights: False\n",
      "fp16_embedding_weights: False\n",
      "heads: 16\n",
      "include_pos_embeddings: True\n",
      "init_scale: 0.7\n",
      "key_bias: None\n",
      "m_attn: 1\n",
      "m_mlp: 4\n",
      "n_ctx: 2048\n",
      "n_layer: 24\n",
      "n_shards: 1\n",
      "res_scale: False\n",
      "resid_dropout: 0.0\n",
      "text_encoding: reversible_50000\n",
      "use_blocksparse_attn: True\n",
      "zero_out: False\n",
      "Loaded model to cuda:0. CUDA memory allocated: 5.68 GB\n",
      "Samples will be written to /tmp/jobs/local/results/samples.0.jsonl\n",
      "================================================================================\n",
      "RESULT 0 of 1\n",
      "CONTEXT:\n",
      "                                                                                                                                                                                                                                                                                                           SUBREDDIT: r/AskReddit\n",
      "\n",
      "TITLE: I have a final for my summer class tomorrow and I thought I'd ask everyone:  What are/were you're pre- college final routines?\n",
      "\n",
      "POST: Some story.  My freshman year of college first semester I took this extremely difficult linear algebra class.  I was between an F-D all semester but arrogant me would just say after every bad test \"Ah I'll figure it out, I don't need to drop.\"  Well it came to the night before the final (a Friday and my first college final) and I still didn't fucking get it.  So I said fuck it and went out and got shit faced with my friends.  I woke up the next morning hung over as all hell and went to take my test.  Low and behold I aced the fucking thing and got a B+ in a class I thought I might fail. I now go drinking the night before every final.  And it keeps working.\n",
      "\n",
      "TL;DR:\n",
      "REF:\n",
      " Was bombing freshman math class.  Got messed up night before final.  Aced it.  Now I do it the night before every final.\n",
      "avg logprob -2.899193548387097\n",
      "SAMPLE 0:\n",
      " I had a bad first semester of college Linear Algebra class and woke up the next morning hungover and took my final.  I aced the final and now go to drinking the night before every final.\n",
      "avg logprob -0.7277848886889081\n",
      "Batch 1 of 1.  Took 10.022165298461914 seconds\n"
     ]
    },
    {
     "data": {
      "text/plain": [
       "{'output_path': '/tmp/jobs/local/results'}"
      ]
     },
     "execution_count": 1,
     "metadata": {},
     "output_type": "execute_result"
    }
   ],
   "source": [
    "from summarize_from_feedback import sample\n",
    "from summarize_from_feedback.utils import experiment_helpers as utils\n",
    "from summarize_from_feedback.query_response_model import ModelSpec\n",
    "from summarize_from_feedback.tasks import TaskHParams, TaskQueryHParams, TaskResponseHParams\n",
    "import os\n",
    "\n",
    "os.environ[\"JOB_NAME\"] = \"local\" #For MPI-dependent logging in sample.main\n",
    "\n",
    "HParams = sample.HParams(\n",
    "     model_spec = ModelSpec(\n",
    "         load_path=\"https://openaipublic.blob.core.windows.net/summarize-from-feedback/models/sup4_ppo_rm4\",\n",
    "         short_name=\"sup4_ppo_rm4\",\n",
    "     ),\n",
    "     task = TaskHParams(\n",
    "         query = TaskQueryHParams(\n",
    "             format_str = \"SUBREDDIT: r/{subreddit}\\n\\nTITLE: {title}\\n\\nPOST: {post}\\n\\nTL;DR:\",\n",
    "             dataset = \"tldr_3_filtered\",\n",
    "             length =  512,\n",
    "             truncate_text = \"\\n\",\n",
    "             truncate_field = \"post\",\n",
    "             pad_side = \"left\"   \n",
    "         ),\n",
    "         response = TaskResponseHParams(\n",
    "             length = 48,\n",
    "             truncate_token = 50256,  # endoftext\n",
    "             ref_format_str = \" {reference}\",  # add a leading space \n",
    "         )\n",
    "     ),\n",
    "     query_dataset_split= \"valid\",\n",
    "     num_queries = 1\n",
    "    )\n",
    "\n",
    "#print(utils.sup4_ppo_rm4())\n",
    "sample.main(H = HParams)"
   ]
  },
  {
   "cell_type": "code",
   "execution_count": null,
   "id": "celtic-expert",
   "metadata": {},
   "outputs": [],
   "source": [
    "%run sample.py test test-sample"
   ]
  },
  {
   "cell_type": "code",
   "execution_count": null,
   "id": "extreme-nightlife",
   "metadata": {},
   "outputs": [],
   "source": []
  }
 ],
 "metadata": {
  "kernelspec": {
   "display_name": "conda_custom_python",
   "language": "python",
   "name": "conda_custom_python"
  },
  "language_info": {
   "codemirror_mode": {
    "name": "ipython",
    "version": 3
   },
   "file_extension": ".py",
   "mimetype": "text/x-python",
   "name": "python",
   "nbconvert_exporter": "python",
   "pygments_lexer": "ipython3",
   "version": "3.7.10"
  }
 },
 "nbformat": 4,
 "nbformat_minor": 5
}
