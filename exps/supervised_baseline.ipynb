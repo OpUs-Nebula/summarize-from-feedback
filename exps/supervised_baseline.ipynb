{
 "cells": [
  {
   "cell_type": "code",
   "execution_count": 7,
   "id": "317e8bce",
   "metadata": {},
   "outputs": [
    {
     "data": {
      "text/plain": [
       "'1.4.0'"
      ]
     },
     "execution_count": 7,
     "metadata": {},
     "output_type": "execute_result"
    }
   ],
   "source": [
    "import torch\n",
    "torch.__version__"
   ]
  },
  {
   "cell_type": "code",
   "execution_count": 17,
   "id": "e39a3e7c",
   "metadata": {},
   "outputs": [],
   "source": [
    "from transformers import BigBirdPegasusForConditionalGeneration, AutoTokenizer\n",
    "\n",
    "tokenizer = AutoTokenizer.from_pretrained(\"google/bigbird-pegasus-large-arxiv\")\n",
    "\n",
    "# by default encoder-attention is `block_sparse` with num_random_blocks=3, block_size=64\n",
    "model = BigBirdPegasusForConditionalGeneration.from_pretrained(\"google/bigbird-pegasus-large-arxiv\")\n",
    "\n",
    "# decoder attention type can't be changed & will be \"original_full\"\n",
    "# you can change `attention_type` (encoder only) to full attention like this:\n",
    "#model = BigBirdPegasusForConditionalGeneration.from_pretrained(\"google/bigbird-pegasus-large-arxiv\", attention_type=\"original_full\")\n",
    "\n",
    "# you can change `block_size` & `num_random_blocks` like this:\n",
    "#model = BigBirdPegasusForConditionalGeneration.from_pretrained(\"google/bigbird-pegasus-large-arxiv\", block_size=16, num_random_blocks=2)"
   ]
  },
  {
   "cell_type": "code",
   "execution_count": 18,
   "id": "168dbb86",
   "metadata": {},
   "outputs": [],
   "source": [
    "text = open(\"VirusPaperExcerpt.txt\").read()\n",
    "inputs = tokenizer(text, return_tensors='pt')\n",
    "prediction = model.generate(**inputs)\n",
    "prediction = tokenizer.batch_decode(prediction)"
   ]
  },
  {
   "cell_type": "code",
   "execution_count": 19,
   "id": "bc6d5b95",
   "metadata": {},
   "outputs": [
    {
     "name": "stdout",
     "output_type": "stream",
     "text": [
      "['<s> in this paper, we consider the epidemic model of a sexually transmitted disease in a population where only reproduction is allowed.<n> the reproduction rate is determined by the reproduction rate of the population, which is determined by the law of large numbers.<n> the reproduction rate is determined by the law of large numbers, which is determined by the law of large numbers, which is determined by the law of large numbers, and by the law of large numbers, which is determined by the law of large numbers. <n> [ [ section ] ] in this paper, we consider the epidemic model of a sexually transmitted disease in a population where only reproduction is allowed.<n> the reproduction rate is determined by the law of large numbers, which is determined by the law of large numbers, and by the law of large numbers, which is determined by the law of large numbers. <n> [ [ section ] ] in this paper, we consider the epidemic model of a sexually transmitted disease in a population where only reproduction is allowed.<n> the reproduction rate is determined by the law of large numbers, which is determined by the law of large numbers, and by the law of large numbers, which']\n"
     ]
    }
   ],
   "source": [
    "print(prediction)"
   ]
  },
  {
   "cell_type": "code",
   "execution_count": 20,
   "id": "33d4f461",
   "metadata": {},
   "outputs": [],
   "source": [
    "text = open(\"english_case.txt\").read()\n",
    "inputs = tokenizer(text, return_tensors='pt')\n",
    "prediction = model.generate(**inputs)\n",
    "prediction = tokenizer.batch_decode(prediction)"
   ]
  },
  {
   "cell_type": "code",
   "execution_count": 21,
   "id": "c85a2c4b",
   "metadata": {},
   "outputs": [
    {
     "name": "stdout",
     "output_type": "stream",
     "text": [
      "['<s> in this brief report, we address the question of whether or not there is a conflict of interest between the conclusions of a recent study and the conclusions of an earlier investigation.<n> specifically, we address the question of whether or not there is a conflict of interest between the conclusions of the recent study and the conclusions of an earlier investigation.<n> we also address the question of whether or not there is a conflict of interest between the conclusions of a recent study and the conclusions of an earlier investigation.</s>']\n"
     ]
    }
   ],
   "source": [
    "print(prediction)"
   ]
  },
  {
   "cell_type": "code",
   "execution_count": null,
   "id": "b19212b5",
   "metadata": {},
   "outputs": [],
   "source": []
  }
 ],
 "metadata": {
  "kernelspec": {
   "display_name": "conda_transformers-etal",
   "language": "python",
   "name": "conda_transformers-etal"
  },
  "language_info": {
   "codemirror_mode": {
    "name": "ipython",
    "version": 3
   },
   "file_extension": ".py",
   "mimetype": "text/x-python",
   "name": "python",
   "nbconvert_exporter": "python",
   "pygments_lexer": "ipython3",
   "version": "3.6.13"
  }
 },
 "nbformat": 4,
 "nbformat_minor": 5
}
